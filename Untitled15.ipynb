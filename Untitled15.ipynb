{
  "nbformat": 4,
  "nbformat_minor": 0,
  "metadata": {
    "colab": {
      "name": "Untitled15.ipynb",
      "provenance": []
    },
    "kernelspec": {
      "name": "python3",
      "display_name": "Python 3"
    },
    "language_info": {
      "name": "python"
    }
  },
  "cells": [
    {
      "cell_type": "code",
      "execution_count": null,
      "metadata": {
        "id": "ka-KPNbVbdpO"
      },
      "outputs": [],
      "source": [
        "import os\n",
        "import numpy as np\n",
        "from PIL import Image\n",
        "from tensorflow.keras.models import load_model\n",
        "from tensorflow.keras.preprocessing import image\n",
        "from tensorflow.keras.preprocessing.image import img_to_array"
      ]
    },
    {
      "cell_type": "code",
      "source": [
        "from google.colab import drive\n",
        "drive.mount('/content/drive/')"
      ],
      "metadata": {
        "colab": {
          "base_uri": "https://localhost:8080/"
        },
        "id": "9NZ-gP7afZzE",
        "outputId": "23c2a01a-2b63-4568-f541-e2df9d8ea5c0"
      },
      "execution_count": null,
      "outputs": [
        {
          "output_type": "stream",
          "name": "stdout",
          "text": [
            "Mounted at /content/drive/\n"
          ]
        }
      ]
    },
    {
      "cell_type": "code",
      "source": [
        "def get_model():\n",
        "    global model\n",
        "    model = load_model('/content/drive/MyDrive/New folder (1)/model1.h5')\n",
        "    print(\"Model loaded!\")"
      ],
      "metadata": {
        "id": "ATOk3EnQbg4C"
      },
      "execution_count": 13,
      "outputs": []
    },
    {
      "cell_type": "code",
      "source": [
        "get_model()"
      ],
      "metadata": {
        "colab": {
          "base_uri": "https://localhost:8080/"
        },
        "id": "bNeQzgv2gUJV",
        "outputId": "c8aafd2a-0832-43f8-a324-ed3871744543"
      },
      "execution_count": 14,
      "outputs": [
        {
          "output_type": "stream",
          "name": "stdout",
          "text": [
            "WARNING:tensorflow:Error in loading the saved optimizer state. As a result, your model is starting with a freshly initialized optimizer.\n",
            "Model loaded!\n"
          ]
        }
      ]
    },
    {
      "cell_type": "code",
      "source": [
        "def load_image(img_path):\n",
        "\n",
        "    img = image.load_img(img_path, target_size=(224, 224))\n",
        "    img_tensor = image.img_to_array(img)                    # (height, width, channels)\n",
        "    img_tensor = np.expand_dims(img_tensor, axis=0)         # (1, height, width, channels), add a dimension because the model expects this shape: (batch_size, height, width, channels)\n",
        "    img_tensor /= 255.                                      # imshow expects values in the range [0, 1]\n",
        "\n",
        "    return img_tensor"
      ],
      "metadata": {
        "id": "fD5f2-J_gWax"
      },
      "execution_count": 15,
      "outputs": []
    },
    {
      "cell_type": "code",
      "source": [
        "def prediction(img_path):\n",
        "    new_image = load_image(img_path)\n",
        "    \n",
        "    pred = model.predict(new_image)\n",
        "    \n",
        "    print(pred)\n",
        "    \n",
        "    labels=np.array(pred)\n",
        "    labels[labels>=0.6]=1\n",
        "    labels[labels<0.6]=0\n",
        "    \n",
        "    print(labels)\n",
        "    final=np.array(labels)\n",
        "    \n",
        "    if final[0][0]==1:\n",
        "        return \"Bad\"\n",
        "    else:\n",
        "        return \"Good\""
      ],
      "metadata": {
        "id": "881jbIbDf8RP"
      },
      "execution_count": 16,
      "outputs": []
    },
    {
      "cell_type": "code",
      "source": [
        "import tensorflow as tf\n",
        "import cv2\n",
        "\n",
        "IMAGE_CHANNEL = 1 # or 3\n",
        "\n",
        "def prepare(filepath):\n",
        "    IMG_SIZE = 112\n",
        "    img_array = cv2.imread(filepath, cv2.IMREAD_GRAYSCALE)\n",
        "    new_array = cv2.resize(img_array, (IMG_SIZE, IMG_SIZE))\n",
        "    return new_array.reshape(-1, IMG_SIZE, IMG_SIZE, IMAGE_CHANNEL)\n",
        "\n",
        "x = tf.keras.Input(shape=(112,112,IMAGE_CHANNEL))\n",
        "y = tf.keras.layers.Dense(16, activation='softmax')(x)\n",
        "model = tf.keras.Model(x, y)\n",
        "model.summary()\n",
        "\n",
        "\n",
        "prediction = model.predict([prepare(\"test.jpg\")])\n",
        "print(prediction)"
      ],
      "metadata": {
        "id": "pNjCdRBwhN47"
      },
      "execution_count": null,
      "outputs": []
    },
    {
      "cell_type": "code",
      "source": [
        "prediction(r'/content/drive/MyDrive/traindat/bad (10).jpg')"
      ],
      "metadata": {
        "colab": {
          "base_uri": "https://localhost:8080/",
          "height": 70
        },
        "id": "NXdEMm3ZgCcg",
        "outputId": "b2045b89-a56b-4b4d-d628-868a62e28c27"
      },
      "execution_count": 17,
      "outputs": [
        {
          "output_type": "stream",
          "name": "stdout",
          "text": [
            "[[1.000000e+00 8.534678e-09]]\n",
            "[[1. 0.]]\n"
          ]
        },
        {
          "output_type": "execute_result",
          "data": {
            "text/plain": [
              "'Bad'"
            ],
            "application/vnd.google.colaboratory.intrinsic+json": {
              "type": "string"
            }
          },
          "metadata": {},
          "execution_count": 17
        }
      ]
    },
    {
      "cell_type": "code",
      "source": [
        "print(prediction(r'/content/drive/MyDrive/traindat/good (6).jpeg'))     "
      ],
      "metadata": {
        "colab": {
          "base_uri": "https://localhost:8080/"
        },
        "id": "0FxHXbWszVCj",
        "outputId": "655ca7d5-7020-42a1-d36a-d596f04a2fef"
      },
      "execution_count": 18,
      "outputs": [
        {
          "output_type": "stream",
          "name": "stdout",
          "text": [
            "[[4.5316415e-10 1.0000000e+00]]\n",
            "[[0. 1.]]\n",
            "Good\n"
          ]
        }
      ]
    },
    {
      "cell_type": "code",
      "source": [
        "product = prediction(r'/content/drive/MyDrive/traindat/bad (5).jpg')"
      ],
      "metadata": {
        "colab": {
          "base_uri": "https://localhost:8080/"
        },
        "id": "V3RTFYpczfQf",
        "outputId": "b693d1b9-d67a-453e-809e-703131cac55b"
      },
      "execution_count": 19,
      "outputs": [
        {
          "output_type": "stream",
          "name": "stdout",
          "text": [
            "[[0.96979934 0.03020063]]\n",
            "[[1. 0.]]\n"
          ]
        }
      ]
    },
    {
      "cell_type": "code",
      "source": [
        "product"
      ],
      "metadata": {
        "colab": {
          "base_uri": "https://localhost:8080/",
          "height": 36
        },
        "id": "kzqIrxinzlC1",
        "outputId": "3adf5680-9c37-4114-8e94-05f75789582b"
      },
      "execution_count": 20,
      "outputs": [
        {
          "output_type": "execute_result",
          "data": {
            "text/plain": [
              "'Bad'"
            ],
            "application/vnd.google.colaboratory.intrinsic+json": {
              "type": "string"
            }
          },
          "metadata": {},
          "execution_count": 20
        }
      ]
    }
  ]
}